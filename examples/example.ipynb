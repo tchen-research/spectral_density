{
 "cells": [
  {
   "cell_type": "code",
   "execution_count": 1,
   "id": "30bfba18-6349-4c80-8142-dad235498bdd",
   "metadata": {},
   "outputs": [],
   "source": [
    "import numpy as np\n",
    "import scipy as sp\n",
    "import matplotlib.pyplot as plt\n",
    "\n",
    "import spectral_density as spec\n",
    "\n",
    "%load_ext autoreload\n",
    "%autoreload 2"
   ]
  },
  {
   "cell_type": "markdown",
   "id": "fab894f1-4982-45d6-9eab-a339137b2865",
   "metadata": {},
   "source": [
    "$\\newcommand{\\T}{\\mathsf{T}}$\n",
    "$\\renewcommand{\\vec}{\\mathbf}$"
   ]
  },
  {
   "cell_type": "markdown",
   "id": "4441a0fc-fbf0-46f4-8a3b-42559d3fda91",
   "metadata": {},
   "source": [
    "# This package\n",
    "\n",
    "This notebook aims to highlight the basic functionality of the `spectral_density` package. "
   ]
  },
  {
   "cell_type": "markdown",
   "id": "0363fcc3-d15a-493c-98fa-27c00f1ffcf7",
   "metadata": {},
   "source": [
    "## Setup\n",
    "\n",
    "Let's load a matrix and run the Lanczos algortihm $m$ times. \n",
    "\n",
    "Here we use an interval Lanczos code for this, but we note that the design paradigm for `spectral_density` is that computation and approximation should be decoupled. \n",
    "In particular, the package focuses on *approximation*, leaving the user free to use any Lanczos code for the *computation*.\n",
    "Run Lanczos is the only computationally expensive task in the entire pipeline, and we recommend users do this part of the process with a prodection quality Lanczos code suitable for their computationl environment.\n",
    "\n",
    "Note that, compared to standard KPM implementations, we do not need to specify any hyperparameters at this point! \n",
    "We will specify them later, and can even adjust them based on how our approximations are looking. "
   ]
  },
  {
   "cell_type": "code",
   "execution_count": null,
   "id": "53f7bf96-baf9-467e-8487-5bc7ec565827",
   "metadata": {},
   "outputs": [],
   "source": [
    "# load Hamiltonian\n",
    "H = sp.io.mmread('./Ga41As41H72.mtx')\n",
    "H.tocsr()\n",
    "d = H.shape[0]"
   ]
  },
  {
   "cell_type": "code",
   "execution_count": null,
   "id": "2f8d16f9-8868-4da2-8122-6126f15bbe20",
   "metadata": {},
   "outputs": [],
   "source": [
    "# number of LDOS to average\n",
    "m = 3\n",
    "\n",
    "# run Lanczos and get recurrence coefficients\n",
    "αβ_list = []\n",
    "for _ in range(m):\n",
    "\n",
    "    # generate random vector\n",
    "    v = np.random.randn(d)\n",
    "    v /= np.linalg.norm(v)\n",
    "\n",
    "    # maximum Lanczos degree\n",
    "    k = 150\n",
    "\n",
    "    # run Lanczos and append coefficients\n",
    "    # we recommend users use production quality Lanczos codes for this step\n",
    "    αβ_list.append(spec.lanczos(H,v,k,reorth=False))"
   ]
  },
  {
   "cell_type": "markdown",
   "id": "de384735-a804-450c-ad0f-92f15180a08c",
   "metadata": {},
   "source": [
    "### SLQ approximation\n",
    "\n",
    "Computing the SLQ approximation from the Lanczos coefficients is stragithforward."
   ]
  },
  {
   "cell_type": "code",
   "execution_count": null,
   "id": "f4396a58-8761-420a-9349-42d4f72cc1c7",
   "metadata": {},
   "outputs": [],
   "source": [
    "# define SLQ approximation\n",
    "ρ_SLQ = spec.SLQ(αβ_list)"
   ]
  },
  {
   "cell_type": "markdown",
   "id": "0059d0b3-e184-46ed-bac2-2ffdab029f21",
   "metadata": {},
   "source": [
    "The resulting instance of the `SLQ` class is callable, which allows us to easily plot the approximation."
   ]
  },
  {
   "cell_type": "code",
   "execution_count": null,
   "id": "7f78b9ce-6e95-4740-9846-c9ed71b62f1b",
   "metadata": {},
   "outputs": [],
   "source": [
    "fig,axs = plt.subplots(1,1,figsize=(8,3))\n",
    "\n",
    "# evaluate SLQ approximation \n",
    "x = np.linspace(-50,1400,500)\n",
    "axs.plot(x,ρ_SLQ(x))\n",
    "\n",
    "axs.set_yscale('symlog',linthresh=5e-4)"
   ]
  },
  {
   "cell_type": "markdown",
   "id": "d8713acb-f7ae-4310-ab9d-57a3770493e8",
   "metadata": {},
   "source": [
    "For this particular spectrum, the vast majority of the mass is contained at around 25, but there are a few outlying eigenvalues at 1300."
   ]
  },
  {
   "cell_type": "markdown",
   "id": "5960331e-a754-46ad-a898-63d029c99efb",
   "metadata": {},
   "source": [
    "We can plot both regions separately, using the `width' parameter to control the resolution of the SLQ approximation.\n",
    "Note that making the width small resolves the Ritz values of the approximation, which often provide good approximations to outlying eigenvalues in the DOS. \n",
    "However, in bulk areas of the DOS the Ritz values do not converge, and therefore using too fine of a resolution will result in a poor approximation. "
   ]
  },
  {
   "cell_type": "code",
   "execution_count": null,
   "id": "2d287a94-7d84-4104-b6b5-f0dddcad90a3",
   "metadata": {},
   "outputs": [],
   "source": [
    "fig,axs = plt.subplots(1,2,figsize=(10,3))\n",
    "\n",
    "# evaluate SLQ approximation on intervals, with different resolutions\n",
    "x = np.linspace(-1.3,60,500)\n",
    "axs[0].plot(x,ρ_SLQ(x,width=.6))\n",
    "\n",
    "x = np.linspace(1299,1301,500)\n",
    "axs[1].plot(x,ρ_SLQ(x,width=.01))"
   ]
  },
  {
   "cell_type": "markdown",
   "id": "25087e16-f87f-42e1-b6c3-8d8683391673",
   "metadata": {},
   "source": [
    "We can also estiamte the statistical error due to the randomness in the Lanczos samples using the jackknife method.\n",
    "**This is not an estimate of the overall error of the algorithm**.\n",
    "The jackknife error simply estimates the variance of $\\rho_{\\text{SLQ}}(x)$, which says nothing about how good $\\rho_{\\text{SLQ}}(x)$ approximates $\\rho(x)$."
   ]
  },
  {
   "cell_type": "code",
   "execution_count": null,
   "id": "dd84fa07-44c8-413a-a145-2182f40f71a5",
   "metadata": {},
   "outputs": [],
   "source": [
    "fig,axs = plt.subplots(1,2,figsize=(10,3))\n",
    "\n",
    "# evaluate SLQ approximation on intervals, with different resolutions\n",
    "x = np.linspace(-1.3,60,200)\n",
    "axs[0].plot(x,ρ_SLQ(x,width=.6))\n",
    "axs[0].fill_between(x,ρ_SLQ(x,width=.6)-ρ_SLQ.var(x,width=.6)**.5,\\\n",
    "                    ρ_SLQ(x,width=.6)+ρ_SLQ.var(x,width=.6)**.5,\\\n",
    "                    alpha=.5)\n",
    "\n",
    "x = np.linspace(1299,1301,200)\n",
    "axs[1].plot(x,ρ_SLQ(x,width=.01))\n",
    "axs[1].fill_between(x,ρ_SLQ(x,width=.01)-ρ_SLQ.var(x,width=.01)**.5,\\\n",
    "                      ρ_SLQ(x,width=.01)+ρ_SLQ.var(x,width=.01)**.5,\\\n",
    "                    alpha=.5)\n"
   ]
  },
  {
   "cell_type": "markdown",
   "id": "750236f7-8c7f-4fdc-a791-d0b0212ad1d3",
   "metadata": {},
   "source": [
    "One possible (although perhaps not failsafe) way of trying to understand the accuracy of the approxiamtion is to look at the SLQ approximations for several consecutive values of the number of support points $k$.\n",
    "This at least indicates convergence to some distribution, although the use of smoothing will mean that it converges to a smoothed approximation of the DOS.\n",
    "\n",
    "For example, in the following example, we see that the width parameter is too small for the degree of the approximation used. "
   ]
  },
  {
   "cell_type": "code",
   "execution_count": null,
   "id": "821dab6d-e8d2-4f04-9ec2-cd9d47b09062",
   "metadata": {},
   "outputs": [],
   "source": [
    "fig,axs = plt.subplots(1,1,figsize=(10,3))\n",
    "\n",
    "# evaluate SLQ approximation on intervals, with different resolutions\n",
    "x = np.linspace(-1.3,60,500)\n",
    "axs.plot(x,ρ_SLQ(x,width=.4),label=f'$k={k}$')\n",
    "axs.plot(x,ρ_SLQ(x,width=.4,k=k-1),label=f'$k={k-1}$')\n",
    "axs.plot(x,ρ_SLQ(x,width=.4,k=k-2),label=f'$k={k-2}$')\n",
    "\n",
    "axs.legend()"
   ]
  },
  {
   "cell_type": "markdown",
   "id": "76b058cc-a768-4c6a-9b2b-a38b7737b3b9",
   "metadata": {},
   "source": [
    "Computing spectral sums is also easy."
   ]
  },
  {
   "cell_type": "code",
   "execution_count": null,
   "id": "c5ae5487-c1bf-42fe-ba70-b8648f59087a",
   "metadata": {},
   "outputs": [],
   "source": [
    "f = lambda x: np.exp(-x)\n",
    "\n",
    "# evaluate spectral sum\n",
    "ρ_SLQ.specsum(f)"
   ]
  },
  {
   "cell_type": "markdown",
   "id": "fa4cea78-f63c-4cb3-9855-fbde490e9e58",
   "metadata": {},
   "source": [
    "## KPM approximation\n",
    "\n",
    "We will begin with a classic KPM approximation, using the arcsin density shifted and scaled to an interval containg the spectrum of $\\vec{H}$. \n",
    "Similar to the `SLQ` class, the `KPM` class allows us to easily obtain a KPM approxiamtion."
   ]
  },
  {
   "cell_type": "code",
   "execution_count": null,
   "id": "e12beaa1-8d1b-4f3a-acc3-4ec52b1ddb5d",
   "metadata": {},
   "outputs": [],
   "source": [
    "# define reference density\n",
    "σ = spec.get_uniform_density(-2,1302)\n",
    "ρ_KPM = spec.KPM(αβ_list,σ)"
   ]
  },
  {
   "cell_type": "code",
   "execution_count": null,
   "id": "efad3037-7639-424c-af12-69cfdfbf1d80",
   "metadata": {},
   "outputs": [],
   "source": [
    "fig,axs = plt.subplots(1,2,figsize=(10,3))\n",
    "\n",
    "# evaluate KPM approximation on intervals\n",
    "x = np.linspace(-1.3,60,500)\n",
    "axs[0].plot(x,ρ_KPM(x))\n",
    "\n",
    "x = np.linspace(1297,1302,500)\n",
    "axs[1].plot(x,ρ_KPM(x))"
   ]
  },
  {
   "cell_type": "markdown",
   "id": "5b21c021-95e0-465b-8ca4-bbbe1abaabc8",
   "metadata": {},
   "source": [
    "Since the true DOS $\\rho(x)$ is zero over a large interval, the KPM approximation exhibits Gibbs oscillations. We could remove these oscillations through the use of a damping scheme, but this also reduces the resoltuion of our approxiamtion even further. "
   ]
  },
  {
   "cell_type": "code",
   "execution_count": null,
   "id": "58a22547-2441-4727-803c-aa7d3a050156",
   "metadata": {},
   "outputs": [],
   "source": [
    "fig,axs = plt.subplots(1,2,figsize=(10,3))\n",
    "\n",
    "# evaluate KPM approximation on intervals\n",
    "x = np.linspace(-1.3,60,500)\n",
    "axs[0].plot(x,ρ_KPM(x))\n",
    "axs[0].plot(x,ρ_KPM(x,damping='Jackson'))\n",
    "\n",
    "x = np.linspace(1297,1302,500)\n",
    "axs[1].plot(x,ρ_KPM(x))\n",
    "axs[1].plot(x,ρ_KPM(x,damping='Jackson'),label='damping')\n",
    "\n",
    "axs[1].legend()"
   ]
  },
  {
   "cell_type": "markdown",
   "id": "fe959f9f-6b59-4089-a59a-ce10f2fbbf98",
   "metadata": {},
   "source": [
    "Instead, let's define a reference density supported on $[a_L,b_L]\\cup[a_R,b_R]$.\n",
    "We can use the SLQ approximation to estimate reasonable choices for $[a_L,b_L]$ and $[a_R,b_R]$, or we could estimate it by guessing and checking. \n",
    "Criticaly, however, we don't need to work with $\\vec{H}$ at all!"
   ]
  },
  {
   "cell_type": "code",
   "execution_count": null,
   "id": "94c29ba5-37d5-4ab0-87c7-90a0c4592a13",
   "metadata": {},
   "outputs": [],
   "source": [
    "# define intervals containing spectrum\n",
    "a_L = np.min(ρ_SLQ.θ)-4e-1\n",
    "b_L = np.max(ρ_SLQ.θ[ρ_SLQ.θ<200])+4e-1\n",
    "\n",
    "a_R = np.min(ρ_SLQ.θ[ρ_SLQ.θ>1200])-4e-1\n",
    "b_R = np.max(ρ_SLQ.θ)+4e-1"
   ]
  },
  {
   "cell_type": "markdown",
   "id": "bb12a12c-47df-4de4-9763-50802c67b1f4",
   "metadata": {},
   "source": [
    "We can now define a new density function as a combination of density functions supported on these intervals. The `reference_density` class allows us to combine them intuitively."
   ]
  },
  {
   "cell_type": "code",
   "execution_count": null,
   "id": "e03d21a0-de55-44df-8c61-50625d5027f9",
   "metadata": {},
   "outputs": [],
   "source": [
    "# define reference density as sum of densities on the above interavls\n",
    "σ_L = spec.get_semicircle_density(a_L,b_L)\n",
    "σ_R = spec.get_arcsin_density(a_R,b_R)\n",
    "σ = .95*σ_L + .05*σ_R\n",
    "\n",
    "ρ_KPM = spec.KPM(αβ_list,σ)"
   ]
  },
  {
   "cell_type": "code",
   "execution_count": null,
   "id": "7d36a3c2-fc26-4953-8715-bbf3c8482c0c",
   "metadata": {},
   "outputs": [],
   "source": [
    "fig,axs = plt.subplots(1,2,figsize=(10,3))\n",
    "\n",
    "# evaluate KPM approximation \n",
    "x = np.linspace(-2,65,200)\n",
    "axs[0].plot(x,ρ_KPM(x))\n",
    "axs[0].fill_between(x,ρ_KPM(x)-ρ_KPM.var(x)**.5,\\\n",
    "                    ρ_KPM(x)+ρ_KPM.var(x)**.5,\\\n",
    "                    alpha=.5)\n",
    "\n",
    "x = np.linspace(1299,1301,200)\n",
    "axs[1].plot(x,ρ_KPM(x))\n",
    "axs[1].fill_between(x,ρ_KPM(x)-ρ_KPM.var(x)**.5,\\\n",
    "                    ρ_KPM(x)+ρ_KPM.var(x)**.5,\\\n",
    "                    alpha=.5)"
   ]
  },
  {
   "cell_type": "markdown",
   "id": "f5a5927f-86bd-4ebf-b64d-19ac92314a1f",
   "metadata": {},
   "source": [
    "This time the resolution of our approximation is much better.\n",
    "This is because the KPM doesn't need to try and approximate zero between $b_L$ and $a_R$ since the reference denisty is zero in this region. \n",
    "This means the approximation power can be dedicated to the interavls of interest.\n",
    "\n",
    "As with the SLQ approximation, the stastistical error **is not an estimate of the overall error of the algorithm**. \n",
    "It is simply an estaimte of the statistical noise in the approximation due to the randomness in the Lanczos recurrences.\n",
    "\n",
    "As before, we can check for convergence by producing approximations for varying values of the degree."
   ]
  },
  {
   "cell_type": "code",
   "execution_count": null,
   "id": "52de9cc0-7def-46bc-8f85-74459f1bc1b6",
   "metadata": {},
   "outputs": [],
   "source": [
    "fig,axs = plt.subplots(1,1,figsize=(10,3))\n",
    "\n",
    "# evaluate KPM approximation \n",
    "x = np.linspace(-2,65,200)\n",
    "axs.plot(x,ρ_KPM(x))\n",
    "axs.plot(x,ρ_KPM(x,degree=2*k-2),lw=1)\n",
    "axs.plot(x,ρ_KPM(x,degree=2*k-3),lw=1)\n",
    "axs.plot(x,ρ_KPM(x,degree=2*k-10),lw=1)\n",
    "\n"
   ]
  },
  {
   "cell_type": "markdown",
   "id": "719ad9d1-e364-45da-bb72-ad0065e91866",
   "metadata": {},
   "source": [
    "## Summary\n",
    "\n",
    "- This package makes it easy to produce spectral density approximations\n",
    "- For parts of the spectrum where the Ritz values approximate individual eigenvalues, we recommend using the SLQ approximation. \n",
    "- For approximating regions of the bulk spectrum, we recommend using KPM with a suitably chosen reference density\n"
   ]
  }
 ],
 "metadata": {
  "kernelspec": {
   "display_name": "Python 3 (ipykernel)",
   "language": "python",
   "name": "python3"
  },
  "language_info": {
   "codemirror_mode": {
    "name": "ipython",
    "version": 3
   },
   "file_extension": ".py",
   "mimetype": "text/x-python",
   "name": "python",
   "nbconvert_exporter": "python",
   "pygments_lexer": "ipython3",
   "version": "3.10.9"
  }
 },
 "nbformat": 4,
 "nbformat_minor": 5
}
